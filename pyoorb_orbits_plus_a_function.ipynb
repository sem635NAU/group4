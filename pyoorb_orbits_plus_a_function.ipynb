{
 "cells": [
  {
   "cell_type": "code",
   "execution_count": 6,
   "metadata": {},
   "outputs": [],
   "source": [
    "# pip install astropy\n",
    "# pip install sbpy\n",
    "import spiceypy\n",
    "import pyoorb as oorb\n",
    "import pandas as pd\n",
    "import numpy as np\n",
    "import astropy.units as u\n",
    "from astropy.time import Time\n",
    "from sbpy.data import Orbit, Ephem"
   ]
  },
  {
   "cell_type": "code",
   "execution_count": 74,
   "metadata": {},
   "outputs": [
    {
     "ename": "KeyError",
     "evalue": "'field \"RA\" not available.'",
     "output_type": "error",
     "traceback": [
      "\u001b[31m---------------------------------------------------------------------------\u001b[39m",
      "\u001b[31mKeyError\u001b[39m                                  Traceback (most recent call last)",
      "\u001b[36mCell\u001b[39m\u001b[36m \u001b[39m\u001b[32mIn[74]\u001b[39m\u001b[32m, line 22\u001b[39m\n\u001b[32m      3\u001b[39m \u001b[38;5;66;03m# epoch_init = Time('60000', scale='mjd')\u001b[39;00m\n\u001b[32m      4\u001b[39m \n\u001b[32m      5\u001b[39m \u001b[38;5;66;03m# So what this is doing is giving us the orbital parameters (of ceres in this case) of Ceres at any time. I set the time equal\u001b[39;00m\n\u001b[32m   (...)\u001b[39m\u001b[32m     19\u001b[39m \u001b[38;5;66;03m#     'G': 0.15} # this = 0.15 for all of the mpc objects\u001b[39;00m\n\u001b[32m     20\u001b[39m \u001b[38;5;66;03m# )\u001b[39;00m\n\u001b[32m     21\u001b[39m ceres = getOrbitAtTime(\u001b[33m'\u001b[39m\u001b[33mCeres\u001b[39m\u001b[33m'\u001b[39m, \u001b[33m'\u001b[39m\u001b[33mKEP\u001b[39m\u001b[33m'\u001b[39m, \u001b[32m2.77\u001b[39m, \u001b[32m0.0786\u001b[39m, \u001b[32m10.6\u001b[39m, \u001b[32m73.6\u001b[39m, \u001b[32m80.3\u001b[39m, \u001b[32m188.7\u001b[39m, epoch_init, \u001b[32m3.34\u001b[39m, \u001b[32m0.15\u001b[39m)\n\u001b[32m---> \u001b[39m\u001b[32m22\u001b[39m \u001b[38;5;28mprint\u001b[39m(ceres[\u001b[33m'\u001b[39m\u001b[33mRA\u001b[39m\u001b[33m'\u001b[39m])\n\u001b[32m     24\u001b[39m epochs = epoch_init + np.arange(\u001b[32m1\u001b[39m) * u.day\n\u001b[32m     25\u001b[39m ephLocal = Ephem.from_oo(ceres, epochs)\n",
      "\u001b[36mFile \u001b[39m\u001b[32m~/.conda/envs/oif-dev/lib/python3.12/site-packages/sbpy/data/core.py:641\u001b[39m, in \u001b[36mDataClass.__getitem__\u001b[39m\u001b[34m(self, ident)\u001b[39m\n\u001b[32m    639\u001b[39m \u001b[38;5;28;01melif\u001b[39;00m \u001b[38;5;28misinstance\u001b[39m(ident, \u001b[38;5;28mstr\u001b[39m):\n\u001b[32m    640\u001b[39m     \u001b[38;5;28mself\u001b[39m = \u001b[38;5;28mself\u001b[39m._convert_columns(ident)\n\u001b[32m--> \u001b[39m\u001b[32m641\u001b[39m     ident = \u001b[38;5;28mself\u001b[39m._translate_columns(ident)[\u001b[32m0\u001b[39m]\n\u001b[32m    642\u001b[39m     \u001b[38;5;28;01mreturn\u001b[39;00m \u001b[38;5;28mself\u001b[39m.table[ident]\n\u001b[32m    644\u001b[39m \u001b[38;5;66;03m# return as new instance of this class for all other identifiers\u001b[39;00m\n",
      "\u001b[36mFile \u001b[39m\u001b[32m~/.conda/envs/oif-dev/lib/python3.12/site-packages/sbpy/data/core.py:692\u001b[39m, in \u001b[36mDataClass._translate_columns\u001b[39m\u001b[34m(self, target_colnames, ignore_missing)\u001b[39m\n\u001b[32m    689\u001b[39m         \u001b[38;5;28;01melse\u001b[39;00m:\n\u001b[32m    690\u001b[39m             \u001b[38;5;66;03m# undefined colname\u001b[39;00m\n\u001b[32m    691\u001b[39m             \u001b[38;5;28;01mif\u001b[39;00m \u001b[38;5;129;01mnot\u001b[39;00m ignore_missing:\n\u001b[32m--> \u001b[39m\u001b[32m692\u001b[39m                 \u001b[38;5;28;01mraise\u001b[39;00m \u001b[38;5;167;01mKeyError\u001b[39;00m(\u001b[33m'\u001b[39m\u001b[33mfield \u001b[39m\u001b[33m\"\u001b[39m\u001b[38;5;132;01m{:s}\u001b[39;00m\u001b[33m\"\u001b[39m\u001b[33m not available.\u001b[39m\u001b[33m'\u001b[39m.format(\n\u001b[32m    693\u001b[39m                     colname))\n\u001b[32m    695\u001b[39m \u001b[38;5;28;01mreturn\u001b[39;00m translated_colnames\n",
      "\u001b[31mKeyError\u001b[39m: 'field \"RA\" not available.'"
     ]
    }
   ],
   "source": [
    "# this is the time that we wanna observe the object at\n",
    "epoch_init = Time('2025-05-13', scale='utc')\n",
    "# epoch_init = Time('60000', scale='mjd')\n",
    "\n",
    "# So what this is doing is giving us the orbital parameters (of ceres in this case) of Ceres at any time. I set the time equal\n",
    "# to 2025-05-13 (today) and the values for Ra and Dec are *close* to what Stellarium is predicting\n",
    "\n",
    "# ceres = Orbit.from_dict({''\n",
    "#     # 'targetname': 'Ceres',\n",
    "#     'orbtype': 'KEP',\n",
    "#     'a': 2.77 * u.au,\n",
    "#     'e': 0.0786,\n",
    "#     'i': 10.6 * u.deg,\n",
    "#     'w': 73.6 * u.deg,\n",
    "#     'Omega': 80.3 * u.deg,\n",
    "#     'M': 188.7 * u.deg,\n",
    "#     'epoch': epoch_init,\n",
    "#     'H': 3.34 * u.mag, # what is this??\n",
    "#     'G': 0.15} # this = 0.15 for all of the mpc objects\n",
    "# )\n",
    "ceres = getOrbitAtTime('Ceres', 'KEP', 2.77, 0.0786, 10.6, 73.6, 80.3, 188.7, epoch_init, 3.34, 0.15)\n",
    "print(ceres['RA'])\n",
    "\n",
    "epochs = epoch_init + np.arange(1) * u.day\n",
    "ephLocal = Ephem.from_oo(ceres, epochs)"
   ]
  },
  {
   "cell_type": "code",
   "execution_count": 66,
   "metadata": {},
   "outputs": [],
   "source": [
    "def getOrbitAtTime(targetname, orbtype, a, e, i, w, omega, m, epoch, h, g):\n",
    "    return Orbit.from_dict({''\n",
    "    'targetname': targetname,\n",
    "    'orbtype': orbtype,\n",
    "    'a': a * u.au,\n",
    "    'e': e,\n",
    "    'i': i * u.deg,\n",
    "    'w': w * u.deg,\n",
    "    'Omega': omega * u.deg,\n",
    "    'M': m * u.deg,\n",
    "    'epoch': epoch,\n",
    "    'H': h * u.mag,\n",
    "    'G': g});\n",
    "\n",
    "def getRA(orb):\n",
    "    return orb['RA'].value;"
   ]
  },
  {
   "cell_type": "code",
   "execution_count": 71,
   "metadata": {},
   "outputs": [],
   "source": [
    "#print(ceres)\n",
    "#print(epochs)\n",
    "# print(ephLocal)\n",
    "# print(\"RA:\" + ephLocal['RA'].value[0])"
   ]
  },
  {
   "cell_type": "code",
   "execution_count": null,
   "metadata": {},
   "outputs": [],
   "source": []
  },
  {
   "cell_type": "code",
   "execution_count": null,
   "metadata": {},
   "outputs": [],
   "source": []
  }
 ],
 "metadata": {
  "kernelspec": {
   "display_name": "oif-dev",
   "language": "python",
   "name": "python3"
  },
  "language_info": {
   "codemirror_mode": {
    "name": "ipython",
    "version": 3
   },
   "file_extension": ".py",
   "mimetype": "text/x-python",
   "name": "python",
   "nbconvert_exporter": "python",
   "pygments_lexer": "ipython3",
   "version": "3.12.10"
  },
  "orig_nbformat": 4
 },
 "nbformat": 4,
 "nbformat_minor": 2
}
